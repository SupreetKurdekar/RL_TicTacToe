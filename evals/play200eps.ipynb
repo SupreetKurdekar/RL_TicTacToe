{
 "cells": [
  {
   "cell_type": "code",
   "execution_count": 1,
   "metadata": {},
   "outputs": [],
   "source": [
    "import numpy as np\n",
    "from utils import *"
   ]
  },
  {
   "cell_type": "code",
   "execution_count": 2,
   "metadata": {},
   "outputs": [],
   "source": [
    "table = np.load(\"finalStateTable200eps.npy\",allow_pickle=True).item()"
   ]
  },
  {
   "cell_type": "code",
   "execution_count": 3,
   "metadata": {},
   "outputs": [],
   "source": [
    "initState = np.array([0,0,0,0,0,0,0,0,0])"
   ]
  },
  {
   "cell_type": "code",
   "execution_count": 4,
   "metadata": {},
   "outputs": [
    {
     "name": "stdout",
     "output_type": "stream",
     "text": [
      "[0 0 0 1 0 0 0 0 0]\n"
     ]
    }
   ],
   "source": [
    "ret,nstate = findBestNextState(initState,1,0,table)\n",
    "print(nstate)"
   ]
  },
  {
   "cell_type": "code",
   "execution_count": 5,
   "metadata": {},
   "outputs": [
    {
     "name": "stdout",
     "output_type": "stream",
     "text": [
      "True\n",
      "True\n",
      "[-1  1  0  1  0  0  0  0  0]\n"
     ]
    }
   ],
   "source": [
    "ret,nstate1 = findBestNextState(nstate,-1,0,table)\n",
    "print(ret)\n",
    "ret,nstate2 = findBestNextState(nstate1,1,0,table)\n",
    "print(ret)\n",
    "\n",
    "print(nstate2)"
   ]
  },
  {
   "cell_type": "code",
   "execution_count": 6,
   "metadata": {},
   "outputs": [
    {
     "name": "stdout",
     "output_type": "stream",
     "text": [
      "True\n",
      "True\n",
      "[-1  1  0  1  1 -1  0  0  0]\n"
     ]
    }
   ],
   "source": [
    "ret,nstate3 = findBestNextState(nstate2,-1,0,table)\n",
    "print(ret)\n",
    "ret,nstate4 = findBestNextState(nstate3,1,0,table)\n",
    "print(ret)\n",
    "\n",
    "print(nstate4)"
   ]
  },
  {
   "cell_type": "code",
   "execution_count": 7,
   "metadata": {},
   "outputs": [
    {
     "name": "stdout",
     "output_type": "stream",
     "text": [
      "True [ 0  0  0  0  1 -1  1  0  0]\n"
     ]
    }
   ],
   "source": [
    "# lets try an optimal game\n",
    "initState = np.array([0,0,0,0,1,-1,0,0,0])\n",
    "ret,nstate = findBestNextState(initState,1,0,table)\n",
    "print(ret,nstate)"
   ]
  },
  {
   "cell_type": "code",
   "execution_count": 8,
   "metadata": {},
   "outputs": [
    {
     "name": "stdout",
     "output_type": "stream",
     "text": [
      "True [ 0  0  1 -1  1 -1  1  0  0]\n"
     ]
    }
   ],
   "source": [
    "# so it can win if I let it win\n",
    "nstate1 = copy.deepcopy(nstate)\n",
    "nstate1[3] = -1\n",
    "ret,nstate2 = findBestNextState(nstate1,1,0,table)\n",
    "print(ret,nstate2)"
   ]
  },
  {
   "cell_type": "code",
   "execution_count": null,
   "metadata": {},
   "outputs": [],
   "source": []
  },
  {
   "cell_type": "code",
   "execution_count": 9,
   "metadata": {},
   "outputs": [
    {
     "name": "stdout",
     "output_type": "stream",
     "text": [
      "True [ 0  0  1  0  1 -1  1  0 -1]\n"
     ]
    }
   ],
   "source": [
    "# lets try blocking\n",
    "nstate1 = copy.deepcopy(nstate)\n",
    "nstate1[8] = -1\n",
    "ret,nstate2 = findBestNextState(nstate1,1,0,table)\n",
    "print(ret,nstate2)\n",
    "\n",
    "# now its a sure win for it...."
   ]
  },
  {
   "cell_type": "code",
   "execution_count": 10,
   "metadata": {},
   "outputs": [
    {
     "name": "stdout",
     "output_type": "stream",
     "text": [
      "False [ 0  0 -1  0  1 -1  1  0 -1]\n"
     ]
    }
   ],
   "source": [
    "# lets try blocking one square\n",
    "nstate3 = copy.deepcopy(nstate2)\n",
    "nstate3[2] = -1\n",
    "ret,nstate4 = findBestNextState(nstate3,1,0,table)\n",
    "print(ret,nstate4)"
   ]
  },
  {
   "cell_type": "code",
   "execution_count": 17,
   "metadata": {},
   "outputs": [
    {
     "name": "stdout",
     "output_type": "stream",
     "text": [
      "[array([0, 0, 0, 0, 0, 0, 0, 0, 0]), 146.29851150000005]\n",
      "[array([1, 0, 0, 0, 0, 0, 0, 0, 0]), 0.6050000000000001]\n",
      "[array([0, 1, 0, 0, 0, 0, 0, 0, 0]), 0.6500000000000001]\n",
      "[array([0, 0, 1, 0, 0, 0, 0, 0, 0]), 0.6500000000000001]\n",
      "[array([0, 0, 0, 1, 0, 0, 0, 0, 0]), 19.78634500000002]\n",
      "[array([0, 0, 0, 0, 1, 0, 0, 0, 0]), 0.6550000000000001]\n",
      "[array([0, 0, 0, 0, 0, 1, 0, 0, 0]), 0.55]\n",
      "[array([0, 0, 0, 0, 0, 0, 1, 0, 0]), 0.8100000000000003]\n",
      "[array([0, 0, 0, 0, 0, 0, 0, 1, 0]), 0.7050000000000002]\n",
      "[array([0, 0, 0, 0, 0, 0, 0, 0, 1]), 0.6000000000000001]\n",
      "[array([-1,  0,  0,  0,  0,  0,  0,  0,  1]), 0.55]\n",
      "[array([ 0, -1,  0,  0,  0,  0,  0,  0,  1]), 0.5]\n",
      "[array([ 0,  0, -1,  0,  0,  0,  0,  0,  1]), 0.55]\n"
     ]
    }
   ],
   "source": [
    "# seeing values of first move\n",
    "states = list(table.values())\n",
    "\n",
    "for i,state in enumerate(states[0]):\n",
    "    print(state)\n",
    "    if i > 11:\n",
    "        break"
   ]
  }
 ],
 "metadata": {
  "kernelspec": {
   "display_name": "py38",
   "language": "python",
   "name": "python3"
  },
  "language_info": {
   "codemirror_mode": {
    "name": "ipython",
    "version": 3
   },
   "file_extension": ".py",
   "mimetype": "text/x-python",
   "name": "python",
   "nbconvert_exporter": "python",
   "pygments_lexer": "ipython3",
   "version": "3.8.16"
  },
  "orig_nbformat": 4,
  "vscode": {
   "interpreter": {
    "hash": "db9fb8362aecdbe37ac947dd7c02c2cab9bb122547890ac89cb0e5f93c4235a3"
   }
  }
 },
 "nbformat": 4,
 "nbformat_minor": 2
}
